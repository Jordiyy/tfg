{
 "cells": [
  {
   "cell_type": "code",
   "execution_count": 1,
   "metadata": {},
   "outputs": [],
   "source": [
    "import numpy as np\n",
    "import pandas as pd \n",
    "import matplotlib.pyplot as plt\n",
    "from sklearn import preprocessing\n",
    "from sklearn.model_selection import train_test_split"
   ]
  },
  {
   "cell_type": "code",
   "execution_count": 2,
   "metadata": {},
   "outputs": [],
   "source": [
    "df = pd.read_csv('cardio.csv', sep=';') \n",
    "\n",
    "cleaned_df = df[df['ap_hi'] < 250]  \n",
    "cleaned_df = cleaned_df[cleaned_df['ap_lo'] < 250] \n",
    "Y = cleaned_df['cardio']\n",
    "X = cleaned_df.drop('id', axis=1)\n",
    "X = X.drop('cardio', axis=1)"
   ]
  },
  {
   "cell_type": "code",
   "execution_count": 22,
   "metadata": {},
   "outputs": [
    {
     "name": "stdout",
     "output_type": "stream",
     "text": [
      "MSE scores: [-0.21589764 -0.21588234 -0.2077849  -0.21141684 -0.21744328 -0.20792732\n",
      " -0.21480176 -0.21007329 -0.21843282 -0.21791257]\n",
      "MAE scores: [-0.3716756  -0.36928464 -0.36080037 -0.36265759 -0.37116505 -0.36306453\n",
      " -0.36862532 -0.36447622 -0.37226836 -0.37056618]\n",
      "RMSE scores: [0.46464786 0.4646314  0.45583429 0.45980087 0.46630814 0.45599049\n",
      " 0.46346711 0.45833752 0.46736798 0.46681106]\n",
      "R-squared scores: [0.136409   0.13519542 0.16818254 0.15431769 0.13022643 0.16828566\n",
      " 0.14072135 0.15965913 0.12607016 0.12833537]\n"
     ]
    }
   ],
   "source": [
    "from sklearn.ensemble import RandomForestRegressor\n",
    "from sklearn.model_selection import KFold\n",
    "from sklearn.model_selection import cross_val_score\n",
    "from sklearn.metrics import mean_squared_error, mean_absolute_error, r2_score\n",
    "\n",
    "rf_clf = RandomForestRegressor(n_estimators=10, random_state=10)\n",
    "\n",
    "kfold_validacion = KFold(10)\n",
    "\n",
    "# MSE scores\n",
    "mse_scores = cross_val_score(rf_clf, X, Y, cv=kfold_validacion, scoring='neg_mean_squared_error')\n",
    "print(\"MSE scores:\", mse_scores)\n",
    "rf_mse = mse_scores.mean()\n",
    "\n",
    "# MAE scores\n",
    "mae_scores = cross_val_score(rf_clf, X, Y, cv=kfold_validacion, scoring='neg_mean_absolute_error')\n",
    "print(\"MAE scores:\", mae_scores)\n",
    "rf_mae = mae_scores.mean()\n",
    "\n",
    "# RMSE from MSE scores\n",
    "rmse_scores = np.sqrt(np.abs(mse_scores))\n",
    "print(\"RMSE scores:\", rmse_scores)\n",
    "rf_rmse = rmse_scores.mean()\n",
    "\n",
    "# R2 scores\n",
    "r2_scores = cross_val_score(rf_clf, X, Y, cv=kfold_validacion, scoring='r2')\n",
    "print(\"R-squared scores:\", r2_scores)\n",
    "rf_r2 = r2_scores.mean()"
   ]
  },
  {
   "cell_type": "code",
   "execution_count": 23,
   "metadata": {},
   "outputs": [
    {
     "name": "stdout",
     "output_type": "stream",
     "text": [
      "MSE scores: [-0.22429213 -0.22680771 -0.2204666  -0.22404289 -0.22291262 -0.21912766\n",
      " -0.22425735 -0.22008696 -0.22336232 -0.22151304]\n",
      "MAE scores: [-0.37635125 -0.37849587 -0.37171424 -0.37406173 -0.37438052 -0.37174323\n",
      " -0.37745254 -0.37162319 -0.37356522 -0.37289855]\n",
      "RMSE scores: [0.4735949  0.47624333 0.46953871 0.47333169 0.47213623 0.46811074\n",
      " 0.47355818 0.46913426 0.47261223 0.47065172]\n",
      "R-squared scores: [0.102831   0.09142941 0.11741438 0.1038126  0.10834905 0.12348403\n",
      " 0.10289582 0.11960217 0.10634771 0.11393324]\n"
     ]
    }
   ],
   "source": [
    "from sklearn.neighbors import KNeighborsRegressor\n",
    "from sklearn.model_selection import KFold\n",
    "from sklearn.model_selection import cross_val_score\n",
    "from sklearn.metrics import mean_squared_error, mean_absolute_error, r2_score\n",
    "\n",
    "nn = KNeighborsRegressor(n_neighbors=5)\n",
    "\n",
    "kfold_validacion = KFold(10)\n",
    "\n",
    "# MSE scores\n",
    "mse_scores = cross_val_score(nn, X, Y, cv=kfold_validacion, scoring='neg_mean_squared_error')\n",
    "print(\"MSE scores:\", mse_scores)\n",
    "nn_mse = mse_scores.mean()\n",
    "\n",
    "# MAE scores\n",
    "mae_scores = cross_val_score(nn, X, Y, cv=kfold_validacion, scoring='neg_mean_absolute_error')\n",
    "print(\"MAE scores:\", mae_scores)\n",
    "nn_mae = mae_scores.mean()\n",
    "\n",
    "# RMSE from MSE scores\n",
    "rmse_scores = np.sqrt(np.abs(mse_scores))\n",
    "print(\"RMSE scores:\", rmse_scores)\n",
    "nn_rmse = rmse_scores.mean()\n",
    "\n",
    "# R2 scores\n",
    "r2_scores = cross_val_score(nn, X, Y, cv=kfold_validacion, scoring='r2')\n",
    "print(\"R-squared scores:\", r2_scores)\n",
    "nn_r2 = r2_scores.mean()"
   ]
  },
  {
   "cell_type": "code",
   "execution_count": 24,
   "metadata": {},
   "outputs": [
    {
     "name": "stdout",
     "output_type": "stream",
     "text": [
      "MSE scores: [-0.2927112  -0.47601797 -0.40153601 -0.2993769  -0.29445008 -0.41327344\n",
      " -0.50384002 -0.46942029 -0.35173913 -0.50101449]\n",
      "MAE scores: [-0.3303869  -0.3082162  -0.51354876 -0.31966382 -0.29416027 -0.30952036\n",
      " -0.38675554 -0.33376812 -0.48347826 -0.47521739]\n",
      "RMSE scores: [0.54102791 0.68994055 0.63366869 0.54715345 0.54263255 0.64286347\n",
      " 0.70981689 0.68514253 0.59307599 0.70782377]\n",
      "R-squared scores: [-0.79974011 -1.07870643 -0.87719994 -0.99047132 -0.8849452  -0.74874268\n",
      " -0.30252849 -0.97692387 -1.03060624 -0.47074886]\n"
     ]
    }
   ],
   "source": [
    "from sklearn.neural_network import MLPClassifier\n",
    "from sklearn.model_selection import KFold\n",
    "from sklearn.model_selection import cross_val_score\n",
    "from sklearn.metrics import mean_squared_error, mean_absolute_error, r2_score\n",
    "\n",
    "neural = MLPClassifier()\n",
    "kfold_validacion = KFold(10)\n",
    "\n",
    "# MSE scores\n",
    "mse_scores = cross_val_score(neural, X, Y, cv=kfold_validacion, scoring='neg_mean_squared_error')\n",
    "print(\"MSE scores:\", mse_scores)\n",
    "neural_mse = mse_scores.mean()\n",
    "\n",
    "# MAE scores\n",
    "mae_scores = cross_val_score(neural, X, Y, cv=kfold_validacion, scoring='neg_mean_absolute_error')\n",
    "print(\"MAE scores:\", mae_scores)\n",
    "neural_mae = mae_scores.mean()\n",
    "\n",
    "# RMSE from MSE scores\n",
    "rmse_scores = np.sqrt(np.abs(mse_scores))\n",
    "print(\"RMSE scores:\", rmse_scores)\n",
    "neural_rmse = rmse_scores.mean()\n",
    "\n",
    "# R2 scores\n",
    "r2_scores = cross_val_score(neural, X, Y, cv=kfold_validacion, scoring='r2')\n",
    "print(\"R-squared scores:\", r2_scores)\n",
    "neural_r2 = r2_scores.mean()"
   ]
  },
  {
   "cell_type": "code",
   "execution_count": 25,
   "metadata": {},
   "outputs": [],
   "source": [
    "mse = [rf_mse, nn_mse, neural_mse]\n",
    "mae = [rf_mae, nn_mae, neural_mae]\n",
    "rmse = [rf_rmse, nn_rmse, neural_rmse]\n",
    "r2 = [rf_r2, nn_r2, neural_r2]"
   ]
  },
  {
   "cell_type": "code",
   "execution_count": 40,
   "metadata": {},
   "outputs": [
    {
     "data": {
      "image/png": "[encoded data removed]",
      "text/plain": [
       "<Figure size 800x600 with 1 Axes>"
      ]
     },
     "metadata": {},
     "output_type": "display_data"
    }
   ],
   "source": [
    "fig, ax = plt.subplots(figsize=(8, 6))  # Ajustar el tamaño si lo deseas\n",
    "\n",
    "# Posiciones en X para las barras (controlar la ubicación)\n",
    "x = [0, 1, 2]  # Hay 3 modelos\n",
    "\n",
    "bar_width = 0.2\n",
    "ax.bar(x, mse, label='MSE', width=bar_width, color='b')\n",
    "ax.bar([i + bar_width for i in x], mae, label='MAE', width=bar_width, color='g')\n",
    "ax.bar([i + bar_width * 2 for i in x], rmse, label='RMSE', width=bar_width, color='r')\n",
    "ax.bar([i + bar_width * 3 for i in x], r2, label='R²', width=bar_width, color='purple')\n",
    "\n",
    "# Set labels and title\n",
    "ax.set_ylabel('Error Metric Value')\n",
    "ax.set_title('Error Metrics Comparison')\n",
    "\n",
    "# Set x-axis tick labels (customize based on your model names)\n",
    "ax.set_xticks([i + bar_width * 1.5 for i in x])\n",
    "ax.set_xticklabels(['Random Forest', 'Nearest Neighbors', 'Neural Network'])\n",
    "\n",
    "# Add legend\n",
    "ax.legend()\n",
    "\n",
    "# Show the plot\n",
    "plt.tight_layout()\n",
    "plt.show()\n"
   ]
  },
  {
   "cell_type": "code",
   "execution_count": null,
   "metadata": {},
   "outputs": [],
   "source": []
  }
 ],
 "metadata": {
  "kernelspec": {
   "display_name": "Python 3",
   "language": "python",
   "name": "python3"
  },
  "language_info": {
   "codemirror_mode": {
    "name": "ipython",
    "version": 3
   },
   "file_extension": ".py",
   "mimetype": "text/x-python",
   "name": "python",
   "nbconvert_exporter": "python",
   "pygments_lexer": "ipython3",
   "version": "3.11.9"
  }
 },
 "nbformat": 4,
 "nbformat_minor": 2
}

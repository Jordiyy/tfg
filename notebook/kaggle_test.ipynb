{
 "cells": [
  {
   "cell_type": "code",
   "execution_count": 1,
   "metadata": {},
   "outputs": [],
   "source": [
    "import pandas as pd \n",
    "import math\n",
    "import variables\n",
    "import random"
   ]
  },
  {
   "cell_type": "code",
   "execution_count": 2,
   "metadata": {},
   "outputs": [],
   "source": [
    "def generate_chol(profiles):\n",
    "    for index,row in profiles.iterrows():\n",
    "        cholesterol_value = row['cholesterol']\n",
    "        if cholesterol_value == 1:\n",
    "            profiles.loc[index, 'cholesterol'] = random.randint(50,200)\n",
    "        elif cholesterol_value == 2:\n",
    "            profiles.loc[index, 'cholesterol'] = random.randint(201,240)\n",
    "        else:\n",
    "            profiles.loc[index, 'cholesterol'] = random.randint(241,500)\n",
    "    \n",
    "    return profiles"
   ]
  },
  {
   "cell_type": "code",
   "execution_count": 7,
   "metadata": {},
   "outputs": [],
   "source": [
    "df = pd.read_csv('cardio.csv', sep=';')\n",
    "\n",
    "cleaned_df = df[df['ap_hi'] < 250]  \n",
    "cleaned_df = cleaned_df[cleaned_df['ap_lo'] < 250] \n",
    "cleaned_df = generate_chol(cleaned_df)"
   ]
  },
  {
   "cell_type": "code",
   "execution_count": 8,
   "metadata": {},
   "outputs": [],
   "source": [
    "def calculo(profiles):\n",
    "    for index,row in profiles.iterrows():\n",
    "        gender = row['gender']\n",
    "        age = int(row['age'] / 365)\n",
    "        cholesterol = row['cholesterol']\n",
    "        systolic = row['ap_hi']\n",
    "        smoker = row['smoke']\n",
    "        \n",
    "        # Step 1 - CHD\n",
    "        if gender == 1:\n",
    "            internal = math.exp(variables.ALPHA_CHD_WOMEN)\n",
    "            external = math.exp(-internal)\n",
    "            s0 = external * (age - 20) * variables.P_CHD_WOMEN\n",
    "            s0_10 = external * (age - 10) * variables.P_CHD_WOMEN\n",
    "        else:\n",
    "            internal = math.exp(variables.ALPHA_CHD_MEN)\n",
    "            external = math.exp(-internal)\n",
    "            s0 = external * (age - 20) * variables.P_CHD_MEN\n",
    "            s0_10 = external * (age - 10) * variables.P_CHD_MEN\n",
    "        \n",
    "        # Step 2 - CHD\n",
    "        w = (variables.CHOLESTEROL_CHD * (cholesterol - 6)) + (variables.SYSTOLIC_CHD * (systolic - 120)) + (variables.SMOKER_CHD * smoker)\n",
    "        \n",
    "        # Step 3 - CHD\n",
    "        w_value = math.exp(w)\n",
    "        s0 = s0 * w_value\n",
    "        s0_10 = s0_10 * w_value\n",
    "        \n",
    "        # Step 4 - CHD\n",
    "        if s0 != 0:\n",
    "            s10 = s0_10 / s0\n",
    "        else:\n",
    "            print(s0)\n",
    "            s10 = s0_10 \n",
    "        \n",
    "        # Step 5 - CHD\n",
    "        risk = 1 - s10\n",
    "        \n",
    "        # Step 1 - NON CHD\n",
    "        if gender == 1:\n",
    "            internal = math.exp(variables.ALPHA_NONCHD_WOMEN)\n",
    "            external = math.exp(-internal)\n",
    "            s0 = external * (age - 20) * variables.P_NONCHD_WOMEN\n",
    "            s0_10 = external * (age - 10) * variables.P_NONCHD_WOMEN\n",
    "        else:\n",
    "            internal = math.exp(variables.ALPHA_NONCHD_MEN)\n",
    "            external = math.exp(-internal)\n",
    "            s0 = external * (age - 20) * variables.P_NONCHD_MEN\n",
    "            s0_10 = external * (age - 10) * variables.P_NONCHD_MEN\n",
    "        \n",
    "        # Step 2 - NON CHD\n",
    "        w = (variables.CHOLESTEROL_NONCHD * (cholesterol - 6)) + (variables.SYSTOLIC_NONCHD * (systolic - 120)) + (variables.SMOKER_NONCHD * smoker)\n",
    "        \n",
    "        # Step 3 - NON CHD\n",
    "        w_value = math.exp(w)\n",
    "        s0 = s0 * w_value\n",
    "        s0_10 = s0_10 * w_value\n",
    "        \n",
    "        # Step 4 - NON CHD\n",
    "        if s0 != 0:\n",
    "            s10 = s0_10 / s0\n",
    "        else:\n",
    "            print(s0)\n",
    "            s10 = s0_10 \n",
    "        \n",
    "        # Step 5 - NON CHD\n",
    "        risk_nonchd = 1 - s10\n",
    "            \n",
    "        # Final value\n",
    "        profiles.loc[index, 'score'] = risk - risk_nonchd\n",
    "    \n",
    "    return profiles\n",
    "        "
   ]
  },
  {
   "cell_type": "code",
   "execution_count": 12,
   "metadata": {},
   "outputs": [
    {
     "name": "stdout",
     "output_type": "stream",
     "text": [
      "          id    age  gender  height  weight  ap_hi  ap_lo  cholesterol  gluc  \\\n",
      "0          0  18393       2     168    62.0    110     80          110     1   \n",
      "1          1  20228       1     156    85.0    140     90          299     1   \n",
      "2          2  18857       1     165    64.0    130     70          312     1   \n",
      "3          3  17623       2     169    82.0    150    100           68     1   \n",
      "4          4  17474       1     156    56.0    100     60           87     1   \n",
      "...      ...    ...     ...     ...     ...    ...    ...          ...   ...   \n",
      "69995  99993  19240       2     168    76.0    120     80          181     1   \n",
      "69996  99995  22601       1     158   126.0    140     90          231     2   \n",
      "69997  99996  19066       2     183   105.0    180     90          341     1   \n",
      "69998  99998  22431       1     163    72.0    135     80          162     2   \n",
      "69999  99999  20540       1     170    72.0    120     80          205     1   \n",
      "\n",
      "       smoke  alco  active  cardio         score  \n",
      "0          0     0       1       0  2.220446e-16  \n",
      "1          0     0       1       1  2.220446e-16  \n",
      "2          0     0       0       1 -2.220446e-16  \n",
      "3          0     0       1       1  2.220446e-16  \n",
      "4          0     0       0       0  0.000000e+00  \n",
      "...      ...   ...     ...     ...           ...  \n",
      "69995      1     0       1       0 -2.220446e-16  \n",
      "69996      0     0       1       1  2.220446e-16  \n",
      "69997      0     1       0       1 -2.220446e-16  \n",
      "69998      0     0       0       1  2.220446e-16  \n",
      "69999      0     0       1       0  2.220446e-16  \n",
      "\n",
      "[69007 rows x 14 columns]\n",
      "media: 2.615999301578832e-18\n",
      "maximo: 6.661338147750939e-16\n",
      "minimo: -8.881784197001252e-16\n"
     ]
    }
   ],
   "source": [
    "final = calculo(cleaned_df)\n",
    "print(final)\n",
    "print(f\"media: {final['score'].mean()}\")\n",
    "print(f\"maximo: {final['score'].max()}\")\n",
    "print(f\"minimo: {final['score'].min()}\")"
   ]
  },
  {
   "cell_type": "code",
   "execution_count": null,
   "metadata": {},
   "outputs": [],
   "source": []
  }
 ],
 "metadata": {
  "kernelspec": {
   "display_name": "Python 3",
   "language": "python",
   "name": "python3"
  },
  "language_info": {
   "codemirror_mode": {
    "name": "ipython",
    "version": 3
   },
   "file_extension": ".py",
   "mimetype": "text/x-python",
   "name": "python",
   "nbconvert_exporter": "python",
   "pygments_lexer": "ipython3",
   "version": "3.11.9"
  }
 },
 "nbformat": 4,
 "nbformat_minor": 2
}

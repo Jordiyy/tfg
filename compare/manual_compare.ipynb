{
 "cells": [
  {
   "cell_type": "code",
   "execution_count": 9,
   "metadata": {},
   "outputs": [],
   "source": [
    "import numpy as np\n",
    "import pandas as pd \n",
    "import matplotlib.pyplot as plt\n",
    "from sklearn import preprocessing\n",
    "from sklearn.model_selection import train_test_split"
   ]
  },
  {
   "cell_type": "code",
   "execution_count": 3,
   "metadata": {},
   "outputs": [],
   "source": [
    "df = pd.read_csv('score_manual.csv', sep=';') \n",
    "\n",
    "Y = df['score']\n",
    "X = df.drop('score', axis=1)"
   ]
  },
  {
   "cell_type": "code",
   "execution_count": 10,
   "metadata": {},
   "outputs": [],
   "source": [
    "df = pd.read_csv('score_low_col.csv', sep=',') \n",
    "\n",
    "Y = df['score']\n",
    "X = df.drop('score', axis=1)"
   ]
  },
  {
   "cell_type": "code",
   "execution_count": 8,
   "metadata": {},
   "outputs": [],
   "source": [
    "df = pd.read_csv('score_low_systolic.csv', sep=',') \n",
    "\n",
    "Y = df['score']\n",
    "X = df.drop('score', axis=1)"
   ]
  },
  {
   "cell_type": "code",
   "execution_count": 4,
   "metadata": {},
   "outputs": [
    {
     "name": "stdout",
     "output_type": "stream",
     "text": [
      "MSE scores: [-0.05590966 -0.05559194 -0.05986069 -0.08232019 -0.05019056 -0.06281131\n",
      " -0.04420017 -0.05577265 -0.04659173 -0.08411933]\n",
      "MAE scores: [-0.126266 -0.135188 -0.133059 -0.13748  -0.132879 -0.135699 -0.130226\n",
      " -0.131913 -0.128752 -0.151215]\n",
      "RMSE scores: [0.23645223 0.23577943 0.24466445 0.28691495 0.22403249 0.25062184\n",
      " 0.21023836 0.23616234 0.21585117 0.29003333]\n",
      "R-squared scores: [0.98615604 0.98545327 0.98502109 0.98223121 0.98761543 0.98530948\n",
      " 0.98811223 0.98692299 0.98758692 0.98146661]\n"
     ]
    }
   ],
   "source": [
    "from sklearn.ensemble import RandomForestRegressor\n",
    "from sklearn.model_selection import KFold\n",
    "from sklearn.model_selection import cross_val_score\n",
    "from sklearn.metrics import mean_squared_error, mean_absolute_error, r2_score\n",
    "\n",
    "rf_clf = RandomForestRegressor(n_estimators=10, random_state=10)\n",
    "\n",
    "kfold_validacion = KFold(10)\n",
    "\n",
    "# MSE scores\n",
    "mse_scores = cross_val_score(rf_clf, X, Y, cv=kfold_validacion, scoring='neg_mean_squared_error')\n",
    "print(\"MSE scores:\", mse_scores)\n",
    "rf_mse = mse_scores.mean()\n",
    "\n",
    "# MAE scores\n",
    "mae_scores = cross_val_score(rf_clf, X, Y, cv=kfold_validacion, scoring='neg_mean_absolute_error')\n",
    "print(\"MAE scores:\", mae_scores)\n",
    "rf_mae = mae_scores.mean()\n",
    "\n",
    "# RMSE from MSE scores\n",
    "rmse_scores = np.sqrt(np.abs(mse_scores))\n",
    "print(\"RMSE scores:\", rmse_scores)\n",
    "rf_rmse = rmse_scores.mean()\n",
    "\n",
    "# R2 scores\n",
    "r2_scores = cross_val_score(rf_clf, X, Y, cv=kfold_validacion, scoring='r2')\n",
    "print(\"R-squared scores:\", r2_scores)\n",
    "rf_r2 = r2_scores.mean()"
   ]
  },
  {
   "cell_type": "code",
   "execution_count": 11,
   "metadata": {},
   "outputs": [
    {
     "name": "stdout",
     "output_type": "stream",
     "text": [
      "MSE scores: [-3.31495024 -1.3499587  -2.78905832 -9.64486884 -2.48439448 -1.84137266\n",
      " -1.50752962 -2.79291548 -3.96235078 -7.15722382]\n",
      "MAE scores: [-0.61773  -0.54182  -0.572806 -0.740692 -0.682292 -0.594196 -0.561738\n",
      " -0.643884 -0.67502  -0.747004]\n",
      "RMSE scores: [1.82070048 1.16187723 1.6700474  3.10561891 1.57619621 1.35697187\n",
      " 1.22781498 1.67120181 1.99056544 2.67529883]\n",
      "R-squared scores: [-0.00954838 -0.04126618 -0.06036116  0.04603817 -0.19514809  0.18507708\n",
      " -0.39925729 -0.09680086  0.01149423  0.00925819]\n"
     ]
    }
   ],
   "source": [
    "from sklearn.neighbors import KNeighborsRegressor\n",
    "from sklearn.model_selection import KFold\n",
    "from sklearn.model_selection import cross_val_score\n",
    "from sklearn.metrics import mean_squared_error, mean_absolute_error, r2_score\n",
    "\n",
    "nn = KNeighborsRegressor(n_neighbors=5)\n",
    "\n",
    "kfold_validacion = KFold(10)\n",
    "\n",
    "# MSE scores\n",
    "mse_scores = cross_val_score(nn, X, Y, cv=kfold_validacion, scoring='neg_mean_squared_error')\n",
    "print(\"MSE scores:\", mse_scores)\n",
    "nn_mse = mse_scores.mean()\n",
    "\n",
    "# MAE scores\n",
    "mae_scores = cross_val_score(nn, X, Y, cv=kfold_validacion, scoring='neg_mean_absolute_error')\n",
    "print(\"MAE scores:\", mae_scores)\n",
    "nn_mae = mae_scores.mean()\n",
    "\n",
    "# RMSE from MSE scores\n",
    "rmse_scores = np.sqrt(np.abs(mse_scores))\n",
    "print(\"RMSE scores:\", rmse_scores)\n",
    "nn_rmse = rmse_scores.mean()\n",
    "\n",
    "# R2 scores\n",
    "r2_scores = cross_val_score(nn, X, Y, cv=kfold_validacion, scoring='r2')\n",
    "print(\"R-squared scores:\", r2_scores)\n",
    "nn_r2 = r2_scores.mean()"
   ]
  },
  {
   "cell_type": "code",
   "execution_count": 14,
   "metadata": {},
   "outputs": [
    {
     "name": "stdout",
     "output_type": "stream",
     "text": [
      "MSE scores: [ -2.556995    -1.4460284   -2.41540273  -9.25070271  -1.40183831\n",
      "  -1.82167355  -6.68318939  -2.92361423 -18.59347989  -7.36338519]\n",
      "MAE scores: [-0.56936988 -0.53487316 -0.66852179 -0.63443221 -0.74218038 -0.68924556\n",
      " -1.99963037 -0.72424968 -1.54258845 -1.26153286]\n",
      "RMSE scores: [1.59906066 1.20250921 1.5541566  3.04149679 1.18399253 1.34969387\n",
      " 2.58518653 1.70985796 4.31201576 2.71355582]\n",
      "R-squared scores: [ 0.20713193  0.30904154 -0.11265873  0.10478042 -2.84498941  0.18401945\n",
      "  0.15498225 -0.54960533 -0.74967983  0.14834872]\n"
     ]
    }
   ],
   "source": [
    "from sklearn.neural_network import MLPRegressor\n",
    "from sklearn.model_selection import KFold\n",
    "from sklearn.model_selection import cross_val_score\n",
    "from sklearn.metrics import mean_squared_error, mean_absolute_error, r2_score\n",
    "\n",
    "neural = MLPRegressor()\n",
    "kfold_validacion = KFold(10)\n",
    "\n",
    "# MSE scores\n",
    "mse_scores = cross_val_score(neural, X, Y, cv=kfold_validacion, scoring='neg_mean_squared_error')\n",
    "print(\"MSE scores:\", mse_scores)\n",
    "neural_mse = mse_scores.mean()\n",
    "\n",
    "# MAE scores\n",
    "mae_scores = cross_val_score(neural, X, Y, cv=kfold_validacion, scoring='neg_mean_absolute_error')\n",
    "print(\"MAE scores:\", mae_scores)\n",
    "neural_mae = mae_scores.mean()\n",
    "\n",
    "# RMSE from MSE scores\n",
    "rmse_scores = np.sqrt(np.abs(mse_scores))\n",
    "print(\"RMSE scores:\", rmse_scores)\n",
    "neural_rmse = rmse_scores.mean()\n",
    "\n",
    "# R2 scores\n",
    "r2_scores = cross_val_score(neural, X, Y, cv=kfold_validacion, scoring='r2')\n",
    "print(\"R-squared scores:\", r2_scores)\n",
    "neural_r2 = r2_scores.mean()"
   ]
  },
  {
   "cell_type": "code",
   "execution_count": 15,
   "metadata": {},
   "outputs": [],
   "source": [
    "mse = [rf_mse, nn_mse, neural_mse]\n",
    "mae = [rf_mae, nn_mae, neural_mae]\n",
    "rmse = [rf_rmse, nn_rmse, neural_rmse]\n",
    "r2 = [rf_r2, nn_r2, neural_r2]"
   ]
  },
  {
   "cell_type": "code",
   "execution_count": 16,
   "metadata": {},
   "outputs": [
    {
     "data": {
      "image/png": "[encoded data removed]",
      "text/plain": [
       "<Figure size 800x600 with 1 Axes>"
      ]
     },
     "metadata": {},
     "output_type": "display_data"
    }
   ],
   "source": [
    "fig, ax = plt.subplots(figsize=(8, 6))  # Ajustar el tamaño si lo deseas\n",
    "\n",
    "# Posiciones en X para las barras (controlar la ubicación)\n",
    "x = [0, 1, 2]  # Hay 3 modelos\n",
    "\n",
    "bar_width = 0.2\n",
    "ax.bar(x, mse, label='MSE', width=bar_width, color='b')\n",
    "ax.bar([i + bar_width for i in x], mae, label='MAE', width=bar_width, color='g')\n",
    "ax.bar([i + bar_width * 2 for i in x], rmse, label='RMSE', width=bar_width, color='r')\n",
    "ax.bar([i + bar_width * 3 for i in x], r2, label='R²', width=bar_width, color='purple')\n",
    "\n",
    "# Set labels and title\n",
    "ax.set_ylabel('Error Metric Value')\n",
    "ax.set_title('Error Metrics Comparison')\n",
    "\n",
    "# Set x-axis tick labels (customize based on your model names)\n",
    "ax.set_xticks([i + bar_width * 1.5 for i in x])\n",
    "ax.set_xticklabels(['Random Forest', 'Nearest Neighbors', 'Neural Network'])\n",
    "\n",
    "# Add legend\n",
    "ax.legend()\n",
    "\n",
    "# Show the plot\n",
    "plt.tight_layout()\n",
    "plt.show()\n"
   ]
  },
  {
   "cell_type": "code",
   "execution_count": null,
   "metadata": {},
   "outputs": [],
   "source": []
  }
 ],
 "metadata": {
  "kernelspec": {
   "display_name": "Python 3",
   "language": "python",
   "name": "python3"
  },
  "language_info": {
   "codemirror_mode": {
    "name": "ipython",
    "version": 3
   },
   "file_extension": ".py",
   "mimetype": "text/x-python",
   "name": "python",
   "nbconvert_exporter": "python",
   "pygments_lexer": "ipython3",
   "version": "3.11.9"
  }
 },
 "nbformat": 4,
 "nbformat_minor": 2
}
